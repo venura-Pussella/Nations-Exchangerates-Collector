{
 "cells": [
  {
   "cell_type": "code",
   "execution_count": 1,
   "metadata": {},
   "outputs": [
    {
     "data": {
      "text/plain": [
       "[   Currency Code             Currency  DD Buying Rate  Mid Rates  \\\n",
       " 0            USD            US DOLLAR          297.53     303.60   \n",
       " 1            GBP        BRITISH POUND          381.56     391.34   \n",
       " 2            EUR  EUROP CURRENCY UNIT          319.23     329.10   \n",
       " 3            JPY         JAPANESE YEN            1.91       1.99   \n",
       " 4            NZD   NEW ZEALAND DOLLAR          173.47     179.76   \n",
       " 5            HKD     HONG KONG DOLLAR           37.33      38.89   \n",
       " 6            JOD      JORDANIAN DINAR          411.08     428.21   \n",
       " 7            KWD        KUWAITI DINAR          953.56     993.29   \n",
       " 8            MYR    MALAYSIAN RINGGIT           62.39      64.99   \n",
       " 9            NOK      NORWEGIAN KRONE           26.37      27.47   \n",
       " 10           OMR           OMANI RIAL          757.06     788.60   \n",
       " 11           QAR         QATARI RIYAL           79.93      83.26   \n",
       " 12           SAR  SAUDI ARABIAN RIYAL           77.69      80.93   \n",
       " 13           SEK        SWEDISH KRONA           27.02      28.15   \n",
       " 14           SGD     SINGAPORE DOLLAR          217.99     225.90   \n",
       " 15           THB            THAI BHAT            8.07       8.40   \n",
       " 16           DKK         DANISH KRONE           42.34      44.10   \n",
       " 17           CHF          SWISS FRANC          331.40     343.42   \n",
       " 18           CAD      CANADIAN DOLLAR          212.01     219.70   \n",
       " 19           BHD       BAHRAINI DINAR          773.11     805.33   \n",
       " 20           AED       EMIRATI DIRHAM           79.35      82.66   \n",
       " 21           AUD    AUSTRALIAN DOLLAR          192.07     199.04   \n",
       " \n",
       "     DD Selling Rate  \n",
       " 0            309.67  \n",
       " 1            401.12  \n",
       " 2            338.98  \n",
       " 3              2.07  \n",
       " 4            186.05  \n",
       " 5             40.44  \n",
       " 6            445.34  \n",
       " 7           1033.02  \n",
       " 8             67.59  \n",
       " 9             28.57  \n",
       " 10           820.15  \n",
       " 11            86.59  \n",
       " 12            84.17  \n",
       " 13            29.28  \n",
       " 14           233.81  \n",
       " 15             8.74  \n",
       " 16            45.86  \n",
       " 17           355.44  \n",
       " 18           227.39  \n",
       " 19           837.54  \n",
       " 20            85.97  \n",
       " 21           206.01  ]"
      ]
     },
     "execution_count": 1,
     "metadata": {},
     "output_type": "execute_result"
    }
   ],
   "source": [
    "import pandas as pd\n",
    "\n",
    "df =pd.read_html(\"Nation_Trust_Bank_Exchange_Rates.html\")\n",
    "\n",
    "df"
   ]
  }
 ],
 "metadata": {
  "kernelspec": {
   "display_name": "NTB",
   "language": "python",
   "name": "python3"
  },
  "language_info": {
   "codemirror_mode": {
    "name": "ipython",
    "version": 3
   },
   "file_extension": ".py",
   "mimetype": "text/x-python",
   "name": "python",
   "nbconvert_exporter": "python",
   "pygments_lexer": "ipython3",
   "version": "3.9.19"
  }
 },
 "nbformat": 4,
 "nbformat_minor": 2
}
